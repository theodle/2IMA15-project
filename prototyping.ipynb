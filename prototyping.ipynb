{
 "cells": [
  {
   "cell_type": "code",
   "execution_count": 1,
   "metadata": {},
   "outputs": [],
   "source": [
    "import numpy as np\n",
    "import matplotlib.pyplot as plt\n",
    "import json"
   ]
  },
  {
   "cell_type": "code",
   "execution_count": 2,
   "metadata": {},
   "outputs": [],
   "source": [
    "# path_to_testfile = \"./instances_v2/instances/fpg-poly_0000000020_h1.instance.json\"\n",
    "#path_to_testfile = \"./instances_v2/instances/socg60.instance.json\"\n",
    "path_to_testfile = \"../instances/socg60.instance.json\"\n",
    "\n",
    "with open(path_to_testfile) as testfile:\n",
    "    polygon = json.load(testfile)"
   ]
  },
  {
   "cell_type": "code",
   "execution_count": 3,
   "metadata": {},
   "outputs": [
    {
     "name": "stdout",
     "output_type": "stream",
     "text": [
      "CGSHOP2023_Instance\n",
      "socg60\n",
      "60\n",
      "[{'x': 112, 'y': 736}, {'x': 112, 'y': 704}, {'x': 144, 'y': 704}, {'x': 144, 'y': 672}, {'x': 109, 'y': 672}, {'x': 109, 'y': 704}, {'x': 64, 'y': 704}, {'x': 64, 'y': 672}, {'x': 16, 'y': 672}, {'x': 16, 'y': 640}, {'x': 64, 'y': 640}, {'x': 64, 'y': 624}, {'x': 16, 'y': 624}, {'x': 16, 'y': 592}, {'x': 64, 'y': 592}, {'x': 64, 'y': 560}, {'x': 109, 'y': 560}, {'x': 109, 'y': 592}, {'x': 144, 'y': 592}, {'x': 144, 'y': 560}, {'x': 112, 'y': 560}, {'x': 112, 'y': 528}, {'x': 144, 'y': 528}, {'x': 144, 'y': 480}, {'x': 176, 'y': 480}, {'x': 176, 'y': 528}, {'x': 192, 'y': 528}, {'x': 192, 'y': 480}, {'x': 224, 'y': 480}, {'x': 224, 'y': 528}, {'x': 256, 'y': 528}, {'x': 256, 'y': 560}, {'x': 224, 'y': 560}, {'x': 224, 'y': 592}, {'x': 259, 'y': 592}, {'x': 259, 'y': 560}, {'x': 304, 'y': 560}, {'x': 304, 'y': 592}, {'x': 352, 'y': 592}, {'x': 352, 'y': 624}, {'x': 304, 'y': 624}, {'x': 304, 'y': 640}, {'x': 352, 'y': 640}, {'x': 352, 'y': 672}, {'x': 304, 'y': 672}, {'x': 304, 'y': 704}, {'x': 259, 'y': 704}, {'x': 259, 'y': 672}, {'x': 224, 'y': 672}, {'x': 224, 'y': 704}, {'x': 256, 'y': 704}, {'x': 256, 'y': 736}, {'x': 224, 'y': 736}, {'x': 224, 'y': 800}, {'x': 192, 'y': 800}, {'x': 192, 'y': 736}, {'x': 176, 'y': 736}, {'x': 176, 'y': 800}, {'x': 144, 'y': 800}, {'x': 144, 'y': 736}]\n",
      "[]\n"
     ]
    }
   ],
   "source": [
    "print(polygon['type'])\n",
    "print(polygon['name'])\n",
    "print(polygon['n'])\n",
    "print(polygon['outer_boundary'])\n",
    "print(polygon['holes'])\n"
   ]
  },
  {
   "cell_type": "code",
   "execution_count": 4,
   "metadata": {},
   "outputs": [
    {
     "data": {
      "image/png": "[encoded data removed]",
      "text/plain": [
       "<Figure size 640x480 with 1 Axes>"
      ]
     },
     "metadata": {},
     "output_type": "display_data"
    }
   ],
   "source": [
    "listpolygon = []\n",
    "for pt in polygon['outer_boundary']:\n",
    "    listpolygon.append([pt['x'], pt['y']])\n",
    "\n",
    "listpolygon = np.array(listpolygon)\n",
    "\n",
    "plt.plot(listpolygon.T[0], listpolygon.T[1])\n",
    "# plt.scatter(listpolygon.T[0][1:], listpolygon.T[1][1:])\n",
    "plt.scatter(listpolygon[0][0], listpolygon[0][1])\n",
    "\n",
    "for hole in polygon['holes']:\n",
    "    listhole = []\n",
    "    for pt in hole:\n",
    "        listhole.append([pt['x'], pt['y']])\n",
    "    \n",
    "    listhole = np.array(listhole)\n",
    "\n",
    "    plt.plot(listhole.T[0], listhole.T[1])\n",
    "    # plt.scatter(listhole.T[0][1:], listhole.T[1][1:])\n",
    "    plt.scatter(listhole[0][0], listhole[0][1])\n",
    "\n",
    "plt.show()\n",
    "\n"
   ]
  },
  {
   "cell_type": "code",
   "execution_count": 30,
   "metadata": {},
   "outputs": [
    {
     "name": "stdout",
     "output_type": "stream",
     "text": [
      "60 60\n",
      "(112, 736) <__main__.Polygon object at 0x000001FA1E56C730> (112, 736) (144, 736) (112, 704) (112, 736)\n",
      "(112, 704) <__main__.Polygon object at 0x000001FA1E56C730> (112, 704) (112, 736) (144, 704) (112, 704)\n",
      "(144, 704) <__main__.Polygon object at 0x000001FA1E56C730> (144, 704) (112, 704) (144, 672) (144, 704)\n",
      "(144, 672) <__main__.Polygon object at 0x000001FA1E56C730> (144, 672) (144, 704) (109, 672) (144, 672)\n",
      "(109, 672) <__main__.Polygon object at 0x000001FA1E56C730> (109, 672) (144, 672) (109, 704) (109, 672)\n",
      "(109, 704) <__main__.Polygon object at 0x000001FA1E56C730> (109, 704) (109, 672) (64, 704) (109, 704)\n",
      "(64, 704) <__main__.Polygon object at 0x000001FA1E56C730> (64, 704) (109, 704) (64, 672) (64, 704)\n",
      "(64, 672) <__main__.Polygon object at 0x000001FA1E56C730> (64, 672) (64, 704) (16, 672) (64, 672)\n",
      "(16, 672) <__main__.Polygon object at 0x000001FA1E56C730> (16, 672) (64, 672) (16, 640) (16, 672)\n",
      "(16, 640) <__main__.Polygon object at 0x000001FA1E56C730> (16, 640) (16, 672) (64, 640) (16, 640)\n",
      "(64, 640) <__main__.Polygon object at 0x000001FA1E56C730> (64, 640) (16, 640) (64, 624) (64, 640)\n",
      "(64, 624) <__main__.Polygon object at 0x000001FA1E56C730> (64, 624) (64, 640) (16, 624) (64, 624)\n",
      "(16, 624) <__main__.Polygon object at 0x000001FA1E56C730> (16, 624) (64, 624) (16, 592) (16, 624)\n",
      "(16, 592) <__main__.Polygon object at 0x000001FA1E56C730> (16, 592) (16, 624) (64, 592) (16, 592)\n",
      "(64, 592) <__main__.Polygon object at 0x000001FA1E56C730> (64, 592) (16, 592) (64, 560) (64, 592)\n",
      "(64, 560) <__main__.Polygon object at 0x000001FA1E56C730> (64, 560) (64, 592) (109, 560) (64, 560)\n",
      "(109, 560) <__main__.Polygon object at 0x000001FA1E56C730> (109, 560) (64, 560) (109, 592) (109, 560)\n",
      "(109, 592) <__main__.Polygon object at 0x000001FA1E56C730> (109, 592) (109, 560) (144, 592) (109, 592)\n",
      "(144, 592) <__main__.Polygon object at 0x000001FA1E56C730> (144, 592) (109, 592) (144, 560) (144, 592)\n",
      "(144, 560) <__main__.Polygon object at 0x000001FA1E56C730> (144, 560) (144, 592) (112, 560) (144, 560)\n",
      "(112, 560) <__main__.Polygon object at 0x000001FA1E56C730> (112, 560) (144, 560) (112, 528) (112, 560)\n",
      "(112, 528) <__main__.Polygon object at 0x000001FA1E56C730> (112, 528) (112, 560) (144, 528) (112, 528)\n",
      "(144, 528) <__main__.Polygon object at 0x000001FA1E56C730> (144, 528) (112, 528) (144, 480) (144, 528)\n",
      "(144, 480) <__main__.Polygon object at 0x000001FA1E56C730> (144, 480) (144, 528) (176, 480) (144, 480)\n",
      "(176, 480) <__main__.Polygon object at 0x000001FA1E56C730> (176, 480) (144, 480) (176, 528) (176, 480)\n",
      "(176, 528) <__main__.Polygon object at 0x000001FA1E56C730> (176, 528) (176, 480) (192, 528) (176, 528)\n",
      "(192, 528) <__main__.Polygon object at 0x000001FA1E56C730> (192, 528) (176, 528) (192, 480) (192, 528)\n",
      "(192, 480) <__main__.Polygon object at 0x000001FA1E56C730> (192, 480) (192, 528) (224, 480) (192, 480)\n",
      "(224, 480) <__main__.Polygon object at 0x000001FA1E56C730> (224, 480) (192, 480) (224, 528) (224, 480)\n",
      "(224, 528) <__main__.Polygon object at 0x000001FA1E56C730> (224, 528) (224, 480) (256, 528) (224, 528)\n",
      "(256, 528) <__main__.Polygon object at 0x000001FA1E56C730> (256, 528) (224, 528) (256, 560) (256, 528)\n",
      "(256, 560) <__main__.Polygon object at 0x000001FA1E56C730> (256, 560) (256, 528) (224, 560) (256, 560)\n",
      "(224, 560) <__main__.Polygon object at 0x000001FA1E56C730> (224, 560) (256, 560) (224, 592) (224, 560)\n",
      "(224, 592) <__main__.Polygon object at 0x000001FA1E56C730> (224, 592) (224, 560) (259, 592) (224, 592)\n",
      "(259, 592) <__main__.Polygon object at 0x000001FA1E56C730> (259, 592) (224, 592) (259, 560) (259, 592)\n",
      "(259, 560) <__main__.Polygon object at 0x000001FA1E56C730> (259, 560) (259, 592) (304, 560) (259, 560)\n",
      "(304, 560) <__main__.Polygon object at 0x000001FA1E56C730> (304, 560) (259, 560) (304, 592) (304, 560)\n",
      "(304, 592) <__main__.Polygon object at 0x000001FA1E56C730> (304, 592) (304, 560) (352, 592) (304, 592)\n",
      "(352, 592) <__main__.Polygon object at 0x000001FA1E56C730> (352, 592) (304, 592) (352, 624) (352, 592)\n",
      "(352, 624) <__main__.Polygon object at 0x000001FA1E56C730> (352, 624) (352, 592) (304, 624) (352, 624)\n",
      "(304, 624) <__main__.Polygon object at 0x000001FA1E56C730> (304, 624) (352, 624) (304, 640) (304, 624)\n",
      "(304, 640) <__main__.Polygon object at 0x000001FA1E56C730> (304, 640) (304, 624) (352, 640) (304, 640)\n",
      "(352, 640) <__main__.Polygon object at 0x000001FA1E56C730> (352, 640) (304, 640) (352, 672) (352, 640)\n",
      "(352, 672) <__main__.Polygon object at 0x000001FA1E56C730> (352, 672) (352, 640) (304, 672) (352, 672)\n",
      "(304, 672) <__main__.Polygon object at 0x000001FA1E56C730> (304, 672) (352, 672) (304, 704) (304, 672)\n",
      "(304, 704) <__main__.Polygon object at 0x000001FA1E56C730> (304, 704) (304, 672) (259, 704) (304, 704)\n",
      "(259, 704) <__main__.Polygon object at 0x000001FA1E56C730> (259, 704) (304, 704) (259, 672) (259, 704)\n",
      "(259, 672) <__main__.Polygon object at 0x000001FA1E56C730> (259, 672) (259, 704) (224, 672) (259, 672)\n",
      "(224, 672) <__main__.Polygon object at 0x000001FA1E56C730> (224, 672) (259, 672) (224, 704) (224, 672)\n",
      "(224, 704) <__main__.Polygon object at 0x000001FA1E56C730> (224, 704) (224, 672) (256, 704) (224, 704)\n",
      "(256, 704) <__main__.Polygon object at 0x000001FA1E56C730> (256, 704) (224, 704) (256, 736) (256, 704)\n",
      "(256, 736) <__main__.Polygon object at 0x000001FA1E56C730> (256, 736) (256, 704) (224, 736) (256, 736)\n",
      "(224, 736) <__main__.Polygon object at 0x000001FA1E56C730> (224, 736) (256, 736) (224, 800) (224, 736)\n",
      "(224, 800) <__main__.Polygon object at 0x000001FA1E56C730> (224, 800) (224, 736) (192, 800) (224, 800)\n",
      "(192, 800) <__main__.Polygon object at 0x000001FA1E56C730> (192, 800) (224, 800) (192, 736) (192, 800)\n",
      "(192, 736) <__main__.Polygon object at 0x000001FA1E56C730> (192, 736) (192, 800) (176, 736) (192, 736)\n",
      "(176, 736) <__main__.Polygon object at 0x000001FA1E56C730> (176, 736) (192, 736) (176, 800) (176, 736)\n",
      "(176, 800) <__main__.Polygon object at 0x000001FA1E56C730> (176, 800) (176, 736) (144, 800) (176, 800)\n",
      "(144, 800) <__main__.Polygon object at 0x000001FA1E56C730> (144, 800) (176, 800) (144, 736) (144, 800)\n",
      "(144, 736) <__main__.Polygon object at 0x000001FA1E56C730> (144, 736) (144, 800) (112, 736) (144, 736)\n"
     ]
    }
   ],
   "source": [
    "class Point:\n",
    "    def __init__(self, x, y, parent, incoming, outgoing):\n",
    "        self.coordinate = (x,y)\n",
    "        self.parent = parent\n",
    "        self.incoming = incoming\n",
    "        self.outgoing = outgoing\n",
    "\n",
    "class Edge:\n",
    "    def __init__(self, pt1, pt2, parent):\n",
    "        self.pt1 = pt1\n",
    "        self.pt2 = pt2\n",
    "        self.parent = parent\n",
    "\n",
    "class Polygon:\n",
    "    def __init__(self, isHole, points, edges, holes):\n",
    "        self.isHole = isHole\n",
    "        self.points = points\n",
    "        self.edges = edges\n",
    "        if isHole == 0: \n",
    "            self.holes = holes\n",
    "        else:\n",
    "            self.holes = None\n",
    "\n",
    "listpts = []\n",
    "listholepts = []\n",
    "listedges = []\n",
    "listholeedges = []\n",
    "listpolygons = []\n",
    "listholepolygons = []\n",
    "\n",
    "\n",
    "#Create points + Edges\n",
    "for pt in polygon['outer_boundary']:\n",
    "    (x,y) = [pt['x'], pt['y']]\n",
    "    p = Point(x,y, None, None, None)\n",
    "    listpts.append(p)\n",
    "\n",
    "counter = 0\n",
    "for pt in listpts:\n",
    "    e = Edge(listpts[counter].coordinate, listpts[counter-1].coordinate, None)\n",
    "    #print(listpts[counter].incoming, e, counter)\n",
    "    listedges.append(e)\n",
    "    counter +=1\n",
    "    #listpts[counter].incoming = e\n",
    "\n",
    "#TODO: Update adjacent edges of a point\n",
    "z = len(listpts)\n",
    "for i in range(z):\n",
    "    #print(listpts[i].coordinate, listedges[i].pt1, listedges[i].pt2)\n",
    "    listpts[i].incoming = listedges[i]\n",
    "    #print(i, x)\n",
    "    if i < z-1:\n",
    "        listpts[i].outgoing = listedges[i+1]\n",
    "    else:\n",
    "        listpts[i].outgoing = listedges[0]\n",
    "\n",
    "counter = 0\n",
    "p = Polygon(0, listpts, listedges, None)\n",
    "for edges in p.edges:\n",
    "    edges.parent = p #Update edges parent\n",
    "for pts in p.points:\n",
    "    pts.parent = p #Update point parent\n",
    "print(len(p.edges), len(p.points))\n",
    "\n",
    "#create same for holes \n",
    "# TODO: Check how to work with this when we have >1 hole and update this accordingly  \n",
    "for pt in polygon['holes']:\n",
    "    (x,y) = [pt['x'], pt['y']]\n",
    "    p = Point(x,y, None, None, None)\n",
    "    listpts.append(p)\n",
    "    listholepts.append(p)\n",
    "\n",
    "counter = 0\n",
    "for pt in listholepts:\n",
    "    e = Edge(listholepts[counter].coordinate, listholepts[counter-1].coordinate, None)\n",
    "    listedges.append(e)\n",
    "    listholeedges.append(e)\n",
    "    counter +=1\n",
    "\n",
    "#TODO: Update adjacent edges of a point\n",
    "z = len(listpts)\n",
    "for i in range(z):\n",
    "    #print(listpts[i].coordinate, listedges[i].pt1, listedges[i].pt2)\n",
    "    listholepts[i].incoming = listholeedges[i]\n",
    "    #print(i, x)\n",
    "    if i < z-1:\n",
    "        listholepts[i].outgoing = listholeedges[i+1]\n",
    "    else:\n",
    "        listholepts[i].outgoing = listholeedges[0]\n",
    "        \n",
    "counter = 0\n",
    "h = Polygon(1, listholepts, listholeedges, None)\n",
    "for edges in h.edges:\n",
    "    edges.parent = p #Update edges parent\n",
    "for pts in h.points:\n",
    "    pts.parent = p #Update point parent\n",
    "\n",
    "#for e in p.edges:\n",
    "    #print(e.pt1, e.pt2, e.parent)\n",
    "#for pts in p.points:\n",
    "    #print(pts.coordinate, pts.parent, pts.incoming.pt1, pts.incoming.pt2, pts.outgoing.pt1, pts.outgoing.pt2)\n",
    "#for e in h.edges:\n",
    "    #print(e.pt1, e.pt2, e.parent)\n",
    "#for pts in h.points:\n",
    "    #print(pts.coordinate, pts.parent)\n",
    "#print(p.edges)"
   ]
  },
  {
   "cell_type": "markdown",
   "metadata": {},
   "source": [
    "# Useful functions?"
   ]
  },
  {
   "cell_type": "code",
   "execution_count": 6,
   "metadata": {},
   "outputs": [],
   "source": [
    "def pt2np(pt):\n",
    "    return np.array([pt['x'], pt['y']])"
   ]
  },
  {
   "cell_type": "code",
   "execution_count": 7,
   "metadata": {},
   "outputs": [],
   "source": [
    "#returns the orientation of p3 wrt line through p1 and p2\n",
    "def orientation(p1, p2, p3):\n",
    "\n",
    "    #vector from p1 to p2\n",
    "    a = [(int(p2['x']) - int(p1['x'])), (int(p2['y']) - int(p1['y']))]\n",
    "    #vector from p1 to p3\n",
    "    b = [(int(p3['x']) - int(p1['x'])), (int(p3['y']) - int(p1['y']))]\n",
    "\n",
    "    #cross product\n",
    "    cross = int(a[0]) * int(b[1]) - int(a[1]) * int(b[0])\n",
    "\n",
    "    if cross == 0: #colinear\n",
    "        return 0\n",
    "    else: #sign gives left or right of \\bar{p1p2}\n",
    "        return np.sign(cross)"
   ]
  },
  {
   "cell_type": "code",
   "execution_count": 8,
   "metadata": {},
   "outputs": [],
   "source": [
    "def find_reflex(polygon):\n",
    "    n = polygon['n']\n",
    "    bdry = polygon['outer_boundary']\n",
    "    holes = polygon['holes']\n",
    "    count = 0\n",
    "    reflex = []\n",
    "\n",
    "    for i in range(len(bdry)):\n",
    "        if orientation(bdry[(i-1)], bdry[i], bdry[(i+1) % len(bdry)]) == -1: reflex.append(bdry[i]); count += 1\n",
    "\n",
    "    for hole in holes:\n",
    "        for i in range(len(hole)):\n",
    "            if orientation(hole[(i-1)], hole[i], hole[(i+1) % len(hole)]) == -1: reflex.append(hole[i]); count += 1\n",
    "\n",
    "    return reflex, count"
   ]
  },
  {
   "cell_type": "code",
   "execution_count": 9,
   "metadata": {},
   "outputs": [],
   "source": [
    "reflex, r = find_reflex(polygon)"
   ]
  },
  {
   "cell_type": "code",
   "execution_count": 10,
   "metadata": {},
   "outputs": [
    {
     "data": {
      "image/png": "[encoded data removed]",
      "text/plain": [
       "<Figure size 640x480 with 1 Axes>"
      ]
     },
     "metadata": {},
     "output_type": "display_data"
    }
   ],
   "source": [
    "listpolygon = [[polygon['outer_boundary'][-1]['x'], polygon['outer_boundary'][-1]['y']]]\n",
    "for pt in polygon['outer_boundary']:\n",
    "    listpolygon.append([pt['x'], pt['y']])\n",
    "\n",
    "listpolygon = np.array(listpolygon)\n",
    "\n",
    "plt.plot(listpolygon.T[0], listpolygon.T[1])\n",
    "# plt.scatter(listpolygon.T[0][1:], listpolygon.T[1][1:])\n",
    "plt.scatter(listpolygon[1][0], listpolygon[1][1])\n",
    "\n",
    "for hole in polygon['holes']:\n",
    "    listhole = [[hole[-1]['x'], hole[-1]['y']]]\n",
    "    for pt in hole:\n",
    "        listhole.append([pt['x'], pt['y']])\n",
    "    \n",
    "    listhole = np.array(listhole)\n",
    "\n",
    "    plt.plot(listhole.T[0], listhole.T[1])\n",
    "    # plt.scatter(listhole.T[0][1:], listhole.T[1][1:])\n",
    "    plt.scatter(listhole[1][0], listhole[1][1])\n",
    "\n",
    "listreflex = []\n",
    "for pt in reflex:\n",
    "    listreflex.append([pt['x'], pt['y']])\n",
    "\n",
    "listreflex = np.array(listreflex)\n",
    "\n",
    "plt.scatter(listreflex.T[0], listreflex.T[1])\n",
    "\n",
    "plt.show()"
   ]
  }
 ],
 "metadata": {
  "kernelspec": {
   "display_name": "Python 3.9.12 ('base')",
   "language": "python",
   "name": "python3"
  },
  "language_info": {
   "codemirror_mode": {
    "name": "ipython",
    "version": 3
   },
   "file_extension": ".py",
   "mimetype": "text/x-python",
   "name": "python",
   "nbconvert_exporter": "python",
   "pygments_lexer": "ipython3",
   "version": "3.9.12"
  },
  "orig_nbformat": 4,
  "vscode": {
   "interpreter": {
    "hash": "a2ab3825ac7005fb7b26f112e9c99ae62f464c629e30b0d534c3b931b6cbc3ff"
   }
  }
 },
 "nbformat": 4,
 "nbformat_minor": 2
}
