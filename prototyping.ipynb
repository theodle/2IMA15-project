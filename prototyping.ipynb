{
 "cells": [
  {
   "cell_type": "code",
   "execution_count": 2,
   "metadata": {},
   "outputs": [],
   "source": [
    "import numpy as np\n",
    "from math import atan2, pi\n",
    "import matplotlib.pyplot as plt\n",
    "import json\n",
    "\n",
    "from fractions import Fraction"
   ]
  },
  {
   "attachments": {},
   "cell_type": "markdown",
   "metadata": {},
   "source": [
    "# Opening the polygon file"
   ]
  },
  {
   "cell_type": "code",
   "execution_count": 159,
   "metadata": {},
   "outputs": [],
   "source": [
    "# path_to_testfile = \"./instances_v2/instances/fpg-poly_0000000020_h1.instance.json\"\n",
    "# path_to_testfile = \"./instances_v2/instances/socg60.instance.json\"\n",
    "# path_to_testfile = \"../instances/fpg-poly_0000000020_h2.instance.json\"\n",
    "\n",
    "# path_to_testfile = \"./instances-2IMA15/instances-2IMA15/fpg-poly_0000000020_h2.instance.json\"\n",
    "path_to_testfile = \"./instances-2IMA15/instances-2IMA15/socg60.instance.json\"\n",
    "\n",
    "with open(path_to_testfile) as testfile:\n",
    "    polygon = json.load(testfile)"
   ]
  },
  {
   "cell_type": "code",
   "execution_count": 160,
   "metadata": {},
   "outputs": [
    {
     "name": "stdout",
     "output_type": "stream",
     "text": [
      "CGSHOP2023_Instance\n",
      "socg60\n",
      "60\n",
      "[{'x': 112, 'y': 736}, {'x': 112, 'y': 704}, {'x': 144, 'y': 704}, {'x': 144, 'y': 672}, {'x': 109, 'y': 672}, {'x': 109, 'y': 704}, {'x': 64, 'y': 704}, {'x': 64, 'y': 672}, {'x': 16, 'y': 672}, {'x': 16, 'y': 640}, {'x': 64, 'y': 640}, {'x': 64, 'y': 624}, {'x': 16, 'y': 624}, {'x': 16, 'y': 592}, {'x': 64, 'y': 592}, {'x': 64, 'y': 560}, {'x': 109, 'y': 560}, {'x': 109, 'y': 592}, {'x': 144, 'y': 592}, {'x': 144, 'y': 560}, {'x': 112, 'y': 560}, {'x': 112, 'y': 528}, {'x': 144, 'y': 528}, {'x': 144, 'y': 480}, {'x': 176, 'y': 480}, {'x': 176, 'y': 528}, {'x': 192, 'y': 528}, {'x': 192, 'y': 480}, {'x': 224, 'y': 480}, {'x': 224, 'y': 528}, {'x': 256, 'y': 528}, {'x': 256, 'y': 560}, {'x': 224, 'y': 560}, {'x': 224, 'y': 592}, {'x': 259, 'y': 592}, {'x': 259, 'y': 560}, {'x': 304, 'y': 560}, {'x': 304, 'y': 592}, {'x': 352, 'y': 592}, {'x': 352, 'y': 624}, {'x': 304, 'y': 624}, {'x': 304, 'y': 640}, {'x': 352, 'y': 640}, {'x': 352, 'y': 672}, {'x': 304, 'y': 672}, {'x': 304, 'y': 704}, {'x': 259, 'y': 704}, {'x': 259, 'y': 672}, {'x': 224, 'y': 672}, {'x': 224, 'y': 704}, {'x': 256, 'y': 704}, {'x': 256, 'y': 736}, {'x': 224, 'y': 736}, {'x': 224, 'y': 800}, {'x': 192, 'y': 800}, {'x': 192, 'y': 736}, {'x': 176, 'y': 736}, {'x': 176, 'y': 800}, {'x': 144, 'y': 800}, {'x': 144, 'y': 736}]\n",
      "[]\n",
      "0\n"
     ]
    }
   ],
   "source": [
    "print(polygon['type'])\n",
    "print(polygon['name'])\n",
    "print(polygon['n'])\n",
    "print(polygon['outer_boundary'])\n",
    "print(polygon['holes'])\n",
    "print(len(polygon['holes']))\n"
   ]
  },
  {
   "attachments": {},
   "cell_type": "markdown",
   "metadata": {},
   "source": [
    "### Plotting the polygon"
   ]
  },
  {
   "cell_type": "code",
   "execution_count": 161,
   "metadata": {},
   "outputs": [
    {
     "data": {
      "image/png": "[encoded data removed]",
      "text/plain": [
       "<Figure size 640x480 with 1 Axes>"
      ]
     },
     "metadata": {},
     "output_type": "display_data"
    }
   ],
   "source": [
    "listpolygon = []\n",
    "for pt in polygon['outer_boundary']:\n",
    "    listpolygon.append([pt['x'], pt['y']])\n",
    "\n",
    "listpolygon = np.array(listpolygon)\n",
    "\n",
    "plt.plot(listpolygon.T[0], listpolygon.T[1])\n",
    "# plt.scatter(listpolygon.T[0][1:], listpolygon.T[1][1:])\n",
    "plt.scatter(listpolygon[0][0], listpolygon[0][1])\n",
    "\n",
    "for hole in polygon['holes']:\n",
    "    listhole = []\n",
    "    for pt in hole:\n",
    "        listhole.append([pt['x'], pt['y']])\n",
    "    \n",
    "    listhole = np.array(listhole)\n",
    "\n",
    "    plt.plot(listhole.T[0], listhole.T[1])\n",
    "    # plt.scatter(listhole.T[0][1:], listhole.T[1][1:])\n",
    "    plt.scatter(listhole[0][0], listhole[0][1])\n",
    "\n",
    "plt.show()\n"
   ]
  },
  {
   "cell_type": "code",
   "execution_count": 162,
   "metadata": {},
   "outputs": [
    {
     "data": {
      "image/png": "[encoded data removed]",
      "text/plain": [
       "<Figure size 640x480 with 1 Axes>"
      ]
     },
     "metadata": {},
     "output_type": "display_data"
    }
   ],
   "source": [
    "def polygon_plt():\n",
    "    listpolygon = [[polygon['outer_boundary'][-1]['x'],polygon['outer_boundary'][-1]['y']]]\n",
    "    for pt in polygon['outer_boundary']:\n",
    "        listpolygon.append([pt['x'], pt['y']])\n",
    "\n",
    "    listpolygon = np.array(listpolygon)\n",
    "\n",
    "    plt.plot(listpolygon.T[0], listpolygon.T[1])\n",
    "\n",
    "    for hole in polygon['holes']:\n",
    "        listhole = [[hole[-1]['x'], hole[-1]['y']]]\n",
    "        for pt in hole:\n",
    "            listhole.append([pt['x'], pt['y']])\n",
    "        \n",
    "        listhole = np.array(listhole)\n",
    "\n",
    "        plt.plot(listhole.T[0], listhole.T[1])\n",
    "    \n",
    "polygon_plt()\n",
    "plt.show()"
   ]
  },
  {
   "attachments": {},
   "cell_type": "markdown",
   "metadata": {},
   "source": [
    "# Polygon & helper classes"
   ]
  },
  {
   "cell_type": "code",
   "execution_count": 163,
   "metadata": {},
   "outputs": [],
   "source": [
    "class Point:\n",
    "    def __init__(self, x, y, parent, incoming, outgoing):\n",
    "        self.coordinate = (x,y)\n",
    "        self.parent = parent\n",
    "        self.incoming = incoming\n",
    "        self.outgoing = outgoing\n",
    "\n",
    "#In case we still want a point class with only 1 list we can use this\n",
    "class Point1List:\n",
    "    def __init__(self, x, y, parent, adjacent):\n",
    "        self.coordinate = (x,y)\n",
    "        self.parent = parent\n",
    "        self.adjacent = adjacent\n",
    "        \n",
    "class Edge:\n",
    "    def __init__(self, pt1, pt2, parent):\n",
    "        self.pt1 = pt1\n",
    "        self.pt2 = pt2\n",
    "        self.parent = parent\n",
    "\n",
    "class Polygon:\n",
    "    def __init__(self, isHole, points, edges, holes):\n",
    "        self.isHole = isHole\n",
    "        self.points = points\n",
    "        self.edges = edges\n",
    "        self.holes = holes\n",
    "\n",
    "    def setholes(self, holes_new):\n",
    "        self.holes = holes_new\n"
   ]
  },
  {
   "attachments": {},
   "cell_type": "markdown",
   "metadata": {},
   "source": [
    "### Turning polygon dictionary from file into Polygon class"
   ]
  },
  {
   "cell_type": "code",
   "execution_count": 164,
   "metadata": {},
   "outputs": [
    {
     "name": "stdout",
     "output_type": "stream",
     "text": [
      "Basic (Outside) polygon has now 60 Edges and 60 Points\n"
     ]
    }
   ],
   "source": [
    "#Creating outer boundary pts, edges, polygon\n",
    "listpts = []\n",
    "listpolygons = []\n",
    "listedges = []\n",
    "alledges = []\n",
    "#allpoints = []\n",
    "\n",
    "#Create points + Edges\n",
    "for pt in polygon['outer_boundary']:\n",
    "    (x,y) = [pt['x'], pt['y']]\n",
    "    #p = Point1List(x,y, None, [])\n",
    "    p = Point(x,y, None, [], [])\n",
    "    #print(p.coordinate[0], p.coordinate[1])\n",
    "    listpts.append(p)\n",
    "\n",
    "counter = 0\n",
    "for pt in listpts:\n",
    "    e = Edge(listpts[counter-1], listpts[counter], None)\n",
    "    listedges.append(e)\n",
    "    alledges.append(e)\n",
    "    counter +=1\n",
    "\n",
    "#Update adjacent edges\n",
    "z = len(listpts)\n",
    "for i in range(z):\n",
    "    #listpts[i].adjacent.append(listedges[i-1])\n",
    "    listpts[i].incoming.append(listedges[i])\n",
    "    if i < z-1:\n",
    "        #listpts[i].adjacent.append(listedges[i+1])\n",
    "        listpts[i].outgoing.append(listedges[i+1])\n",
    "    else:\n",
    "        listpts[i].outgoing.append(listedges[0])\n",
    "        #listpts[i].adjacent.append(listedges[0])\n",
    "\n",
    "#allpoints = listpts\n",
    "\n",
    "#Create polygon and update parent of points/vertices to be this polygon\n",
    "poly = Polygon(0, listpts, listedges, [])\n",
    "for edges in poly.edges:\n",
    "    edges.parent = poly #Update edges parent\n",
    "for pts in poly.points:\n",
    "    pts.parent = poly #Update point parent\n",
    "\n",
    "#Print checks to get items\n",
    "#for element in poly.points:\n",
    "#    print(element.coordinate, element.parent, (element.incoming[0].pt1, element.incoming[0].pt2), (element.outgoing[0].pt1, element.outgoing[0].pt2))\n",
    "\n",
    "print(\"Basic (Outside) polygon has now\", len(poly.edges), \"Edges and\", len(poly.points), \"Points\")\n"
   ]
  },
  {
   "cell_type": "code",
   "execution_count": 165,
   "metadata": {},
   "outputs": [],
   "source": [
    "#Do the same for holes\n",
    "counter = 0\n",
    "if len(polygon['holes']) == 0:\n",
    "    ishole = 0\n",
    "else:\n",
    "    ishole = 1\n",
    "\n",
    "#If we have holes, we are allowed to do this part    \n",
    "if ishole:\n",
    "\n",
    "    length_holes = len(polygon['holes'])\n",
    "    listholepolygons = []\n",
    "    \n",
    "    #We might get multiple holes, so 1 list per hole for the edges and points of a hole\n",
    "    for ctr in range(length_holes):\n",
    "        listholeedges = []\n",
    "        listholepts = []\n",
    "        \n",
    "        #Points in hole\n",
    "        length = len(polygon['holes'][ctr])\n",
    "        for n in range(length):\n",
    "            (xh,yh) = (polygon['holes'][ctr][n]['x'], polygon['holes'][ctr][n]['y'])\n",
    "            #print((xh,yh))\n",
    "            #p = Point1List(xh,yh, None, [])\n",
    "            p = Point(xh,yh, None, [], [])\n",
    "            listholepts.append(p)\n",
    "        \n",
    "        #Edges in hole\n",
    "        counter = 0\n",
    "        for pt in listholepts:\n",
    "            e = Edge(listholepts[counter-1], listholepts[counter], None)\n",
    "            #print(\"EDGE Added:\", e.pt1, e.pt2)\n",
    "            listholeedges.append(e)\n",
    "            alledges.append(e)\n",
    "            counter +=1\n",
    "\n",
    "        #adjacent edges of a point\n",
    "        z = len(listholepts)\n",
    "        for i in range(z):\n",
    "            #listholepts[i].adjacent.append(listholeedges[i])\n",
    "            listholepts[i].incoming.append(listholeedges[i])\n",
    "            if i < z-1:\n",
    "                #listholepts[i].adjacent.append(listholeedges[i+1])\n",
    "                listholepts[i].outgoing.append(listholeedges[i+1])\n",
    "            else:\n",
    "                listholepts[i].outgoing.append(listholeedges[0])\n",
    "                #listholepts[i].adjacent.append(listedges[0])\n",
    "              \n",
    "        counter = 0\n",
    "        h = Polygon(1, listholepts, listholeedges, [])\n",
    "        #Update all edges and points to make sure that the parent is set to this hole\n",
    "        for edges in h.edges:\n",
    "            edges.parent = h #Update edges parent\n",
    "        for pts in h.points:\n",
    "            pts.parent = h #Update point parent\n",
    "            #allpoints.append(pts)\n",
    "\n",
    "        #append hole to list\n",
    "        listholepolygons.append(h)\n",
    "        \n",
    "    #add all holes we created in the main polygon\n",
    "    poly.setholes(listholepolygons)\n",
    "    #print(len(poly.holes))\n",
    "\n",
    "    print(\"Updated (Outside + Holes) polygon has now\", len(poly.edges), \"Edges and\", len(poly.points), \"Points, Including\", len(poly.holes), \"Holes\")\n",
    "    #for element in poly.points:\n",
    "    #    print(element.coordinate, element.parent, (element.incoming[0].pt1, element.incoming[0].pt2), (element.outgoing[0].pt1, element.outgoing[0].pt2))\n",
    "    for holex in poly.holes:\n",
    "        for pt in holex.points:\n",
    "            print(pt.coordinate)\n",
    "    #for elem in range(len(alledges)):\n",
    "    #    print(alledges[elem].pt1, alledges[elem].pt2)"
   ]
  },
  {
   "attachments": {},
   "cell_type": "markdown",
   "metadata": {},
   "source": [
    "# Useful functions"
   ]
  },
  {
   "attachments": {},
   "cell_type": "markdown",
   "metadata": {},
   "source": [
    "### Orientation variants"
   ]
  },
  {
   "cell_type": "code",
   "execution_count": 166,
   "metadata": {},
   "outputs": [],
   "source": [
    "#returns the orientation of p3 wrt line through p1 and p2\n",
    "def orientation(p1, p2, p3):\n",
    "\n",
    "    #vector from p1 to p2\n",
    "    a = [(int(p2['x']) - int(p1['x'])), (int(p2['y']) - int(p1['y']))]\n",
    "    #vector from p1 to p3\n",
    "    b = [(int(p3['x']) - int(p1['x'])), (int(p3['y']) - int(p1['y']))]\n",
    "\n",
    "    #cross product\n",
    "    cross = int(a[0]) * int(b[1]) - int(a[1]) * int(b[0])\n",
    "\n",
    "    if cross == 0: #colinear\n",
    "        return 0\n",
    "    else: #sign gives left or right of \\bar{p1p2}\n",
    "        return np.sign(cross)"
   ]
  },
  {
   "cell_type": "code",
   "execution_count": 167,
   "metadata": {},
   "outputs": [],
   "source": [
    "#returns the orientation of p3 wrt line through p1 and p2\n",
    "def orientation_class(p1, p2, p3):\n",
    "\n",
    "    #vector from p1 to p2\n",
    "    a = [(int(p2.coordinate[0]) - int(p1.coordinate[0])), (int(p2.coordinate[1]) - int(p1.coordinate[1]))]\n",
    "    #vector from p1 to p3\n",
    "    b = [(int(p3.coordinate[0]) - int(p1.coordinate[0])), (int(p3.coordinate[1]) - int(p1.coordinate[1]))]\n",
    "\n",
    "    #cross product\n",
    "    cross = int(a[0]) * int(b[1]) - int(a[1]) * int(b[0])\n",
    "\n",
    "    if cross == 0: #colinear\n",
    "        return 0, cross\n",
    "    else: #sign gives left or right of \\bar{p1p2}\n",
    "        return np.sign(cross), cross"
   ]
  },
  {
   "cell_type": "code",
   "execution_count": 168,
   "metadata": {},
   "outputs": [],
   "source": [
    "#returns the orientation as sign and its exact value (needed for sorting) of p3 wrt line through p1 and p2 using the coordinates only\n",
    "def orientation_coordinates(p1, p2, p3):\n",
    "    #vector from p1 to p2\n",
    "    a = [(int(p2[0]) - int(p1[0])), (int(p2[1]) - int(p1[1]))]\n",
    "    #vector from p1 to p3\n",
    "    b = [(int(p3[0]) - int(p1[0])), (int(p3[1]) - int(p1[1]))]\n",
    "\n",
    "    #cross product\n",
    "    cross = int(a[0]) * int(b[1]) - int(a[1]) * int(b[0])\n",
    "    val = cross\n",
    "\n",
    "    if cross == 0: #colinear\n",
    "        return 0, val\n",
    "    else: #sign gives left or right of \\bar{p1p2} and the exact value\n",
    "        return np.sign(cross), val"
   ]
  },
  {
   "attachments": {},
   "cell_type": "markdown",
   "metadata": {},
   "source": [
    "### Finding reflex vertices"
   ]
  },
  {
   "cell_type": "code",
   "execution_count": 169,
   "metadata": {},
   "outputs": [],
   "source": [
    "def find_reflex(polygon):\n",
    "    n = polygon['n']\n",
    "    bdry = polygon['outer_boundary']\n",
    "    holes = polygon['holes']\n",
    "    count = 0\n",
    "    reflex = []\n",
    "\n",
    "    for i in range(len(bdry)):\n",
    "        if orientation(bdry[(i-1)], bdry[i], bdry[(i+1) % len(bdry)]) == -1: reflex.append(bdry[i]); count += 1\n",
    "\n",
    "    for hole in holes:\n",
    "        for i in range(len(hole)):\n",
    "            if orientation(hole[(i-1)], hole[i], hole[(i+1) % len(hole)]) == -1: reflex.append(hole[i]); count += 1\n",
    "\n",
    "    return reflex, count"
   ]
  },
  {
   "cell_type": "code",
   "execution_count": 170,
   "metadata": {},
   "outputs": [
    {
     "name": "stdout",
     "output_type": "stream",
     "text": [
      "We found 28 Reflex points in our outer boundary of the polygon\n",
      "We found 28 reflex vertices in the polygon (including its holes)\n"
     ]
    }
   ],
   "source": [
    "def find_reflex_in_class(polygon):\n",
    "    bdry = polygon.points\n",
    "    holes = polygon.holes\n",
    "    count = 0\n",
    "    reflex = []\n",
    "\n",
    "    for i in range(len(bdry)):\n",
    "        if orientation_class(bdry[(i-1)], bdry[i], bdry[(i+1) % len(bdry)])[0] == -1: \n",
    "            reflex.append(bdry[i]); count += 1\n",
    "    \n",
    "    print(\"We found\", len(reflex), \"Reflex points in our outer boundary of the polygon\")\n",
    "    for hole in holes:\n",
    "        for i in range(len(hole.points)):\n",
    "            if orientation_class(hole.points[(i-1)], hole.points[i], hole.points[(i+1) % len(hole.points)])[0] == -1: \n",
    "                reflex.append(hole.points[i]); count += 1\n",
    "\n",
    "    return reflex, count\n",
    "\n",
    "refl, nr = find_reflex_in_class(poly)\n",
    "print(\"We found\", nr, \"reflex vertices in the polygon (including its holes)\")\n",
    "#for i in refl:\n",
    "#    print(i.coordinate, i.incoming[0].pt1, i.incoming[0].pt2, i.outgoing[0].pt1, i.outgoing[0].pt2)"
   ]
  },
  {
   "attachments": {},
   "cell_type": "markdown",
   "metadata": {},
   "source": [
    "### Plotting reflex vertices "
   ]
  },
  {
   "cell_type": "code",
   "execution_count": 171,
   "metadata": {},
   "outputs": [],
   "source": [
    "reflex, r = find_reflex(polygon)"
   ]
  },
  {
   "cell_type": "code",
   "execution_count": 172,
   "metadata": {},
   "outputs": [
    {
     "data": {
      "image/png": "[encoded data removed]",
      "text/plain": [
       "<Figure size 640x480 with 1 Axes>"
      ]
     },
     "metadata": {},
     "output_type": "display_data"
    }
   ],
   "source": [
    "listpolygon = [[polygon['outer_boundary'][-1]['x'], polygon['outer_boundary'][-1]['y']]]\n",
    "for pt in polygon['outer_boundary']:\n",
    "    listpolygon.append([pt['x'], pt['y']])\n",
    "\n",
    "listpolygon = np.array(listpolygon)\n",
    "\n",
    "plt.plot(listpolygon.T[0], listpolygon.T[1])\n",
    "# plt.scatter(listpolygon.T[0][1:], listpolygon.T[1][1:])\n",
    "plt.scatter(listpolygon[1][0], listpolygon[1][1])\n",
    "\n",
    "for hole in polygon['holes']:\n",
    "    listhole = [[hole[-1]['x'], hole[-1]['y']]]\n",
    "    for pt in hole:\n",
    "        listhole.append([pt['x'], pt['y']])\n",
    "    \n",
    "    listhole = np.array(listhole)\n",
    "\n",
    "    plt.plot(listhole.T[0], listhole.T[1])\n",
    "    # plt.scatter(listhole.T[0][1:], listhole.T[1][1:])\n",
    "    plt.scatter(listhole[1][0], listhole[1][1])\n",
    "\n",
    "listreflex = []\n",
    "for pt in reflex:\n",
    "    listreflex.append([pt['x'], pt['y']])\n",
    "\n",
    "listreflex = np.array(listreflex)\n",
    "\n",
    "plt.scatter(listreflex.T[0], listreflex.T[1])\n",
    "\n",
    "plt.show()"
   ]
  },
  {
   "attachments": {},
   "cell_type": "markdown",
   "metadata": {},
   "source": [
    "### Angle between 3 points"
   ]
  },
  {
   "cell_type": "code",
   "execution_count": 173,
   "metadata": {},
   "outputs": [],
   "source": [
    "def angle(p1: Point, p2: Point, p3: Point):\n",
    "    # Ax, Ay = p1.coordinate[0] - p2.coordinate[0], p1.coordinate[1] - p2.coordinate[1]\n",
    "    # Cx, Cy = p3.coordinate[0] - p2.coordinate[0], p3.coordinate[1] - p2.coordinate[1]\n",
    "    Ax, Ay = p3.coordinate[0] - p2.coordinate[0], p3.coordinate[1] - p2.coordinate[1]\n",
    "    Cx, Cy = p1.coordinate[0] - p2.coordinate[0], p1.coordinate[1] - p2.coordinate[1]\n",
    "\n",
    "    a = atan2(Ay, Ax)\n",
    "    c = atan2(Cy, Cx)\n",
    "    if a < 0: a += pi*2\n",
    "    if c < 0: c += pi*2\n",
    "    return (pi*2 + c - a) if a > c else (c - a) "
   ]
  },
  {
   "attachments": {},
   "cell_type": "markdown",
   "metadata": {},
   "source": [
    "### Misc"
   ]
  },
  {
   "cell_type": "code",
   "execution_count": 174,
   "metadata": {},
   "outputs": [],
   "source": [
    "def dist(p: Point, q: Point):\n",
    "    return Fraction((Fraction(p.coordinate[0] - q.coordinate[0])**Fraction(2,1) + Fraction(p.coordinate[1] - q.coordinate[1])**Fraction(2,1)))#**Fraction(1,2))"
   ]
  },
  {
   "cell_type": "code",
   "execution_count": 175,
   "metadata": {},
   "outputs": [],
   "source": [
    "def intersection_point_error(l1: Edge, l2: Edge):\n",
    "    # get the slopes from the lines defined by the endpoints of the edge\n",
    "    slope1 = (l1.pt2.coordinate[1] - l1.pt1.coordinate[1]) / (l1.pt2.coordinate[0] - l1.pt1.coordinate[0])\n",
    "    slope2 = (l2.pt2.coordinate[1] - l2.pt1.coordinate[1]) / (l2.pt2.coordinate[0] - l2.pt1.coordinate[0])\n",
    "\n",
    "    # find the y-intercepts\n",
    "    y_in1 = l1.pt1.coordinate[1] - slope1 * l1.pt1.coordinate[0]\n",
    "    y_in2 = l2.pt1.coordinate[1] - slope1 * l2.pt1.coordinate[0]\n",
    "\n",
    "    # mx+b-y=0 ->\n",
    "    # m1x + b1 - y = m2x + b2 - y ->\n",
    "    # add y both sides and solve for x\n",
    "    x = (y_in2 - y_in1) / (slope1 - slope2)\n",
    "    # substitute x in equation for one of the lines\n",
    "    y = slope1 * x + y_in1\n",
    "\n",
    "    return Point(x, y, None, [], [])\n"
   ]
  },
  {
   "cell_type": "code",
   "execution_count": 176,
   "metadata": {},
   "outputs": [],
   "source": [
    "# Computes the intersection point of two lines each defined by two Points\n",
    "# achieved with line equations\n",
    "def intersection_point(l1: Edge, l2: Edge):\n",
    "    dy1 = l1.pt2.coordinate[1] - l1.pt1.coordinate[1]\n",
    "    dx1 = l1.pt2.coordinate[0] - l1.pt1.coordinate[0]\n",
    "    # slope1 = dy1 / dx1\n",
    "\n",
    "    dy2 = l2.pt2.coordinate[1] - l2.pt1.coordinate[1]\n",
    "    dx2 = l2.pt2.coordinate[0] - l2.pt1.coordinate[0]\n",
    "    # slope2 = dy2 / dx2\n",
    "\n",
    "    xnum,xden,ynum,yden = [-1]*4\n",
    "\n",
    "    if dx1 == 0 and dx2 != 0:\n",
    "        xnum = l1.pt1.coordinate[0]\n",
    "        xden = 1\n",
    "\n",
    "        pt4 = l2.pt2\n",
    "        \n",
    "        b2num = pt4.coordinate[1] * dx2 - pt4.coordinate[0] * dy2\n",
    "        b2den = dx2\n",
    "\n",
    "        ynum = dy2 * xnum + b2num * xden\n",
    "        yden = dx2 * xden\n",
    "\n",
    "    elif dx2 == 0 and dx1 != 0:\n",
    "        xnum = l2.pt1.coordinate[0]\n",
    "        xden = 1\n",
    "\n",
    "        pt2 = l1.pt2\n",
    "        b1num = pt2.coordinate[1] * dx1 - pt2.coordinate[0] * dy1\n",
    "        b1den = dx1\n",
    "\n",
    "        ynum = dy1 * xnum + b1num * xden\n",
    "        yden = dx1 * xden\n",
    "\n",
    "    elif dx1 == 0 and dx2 == 0:\n",
    "        if l1.pt1.coordinate[0] != l2.pt1.coordinate[0]:\n",
    "            return None, None\n",
    "        \n",
    "        y1 = l1.pt1.coordinate[1]\n",
    "        return (l2.pt1, l2.pt1) if abs(l2.pt1.coordinate[1] - y1) <= abs(l2.pt2.coordinate[1] - y1) else (l2.pt2, l2.pt2)\n",
    "    else:\n",
    "        # points on the lines that will be used to find intercepts\n",
    "        pt2 = l1.pt2\n",
    "        pt4 = l2.pt2\n",
    "\n",
    "        # y-intercepts\n",
    "        b1num = pt2.coordinate[1] * dx1 - pt2.coordinate[0] * dy1\n",
    "        b1den = dx1\n",
    "\n",
    "        b2num = pt4.coordinate[1] * dx2 - pt4.coordinate[0] * dy2\n",
    "        b2den = dx2\n",
    "\n",
    "        if dy1 == 0 and dy2 == 0:\n",
    "\n",
    "            if l1.pt1.coordinate[1] != l2.pt1.coordinate[1]:\n",
    "                return None, None\n",
    "            \n",
    "            x1 = l1.pt1.coordinate[0]\n",
    "            return (l2.pt1, l2.pt1) if abs(l2.pt1.coordinate[0] - x1) <= (l2.pt2.coordinate[0] - x1) else (l2.pt2, l2.pt2)\n",
    "\n",
    "        elif dy1 == 0 and dy2 != 0:\n",
    "            y1 = l1.pt1.coordinate[1]\n",
    "            \n",
    "            xnum = y1 - Fraction(b2num, b2den)\n",
    "            xden = Fraction(dy2, dx2)\n",
    "\n",
    "            ynum = dy2 * xnum + b2num * xden\n",
    "            yden = dx2 * xden\n",
    "        elif dy2 == 0 and dy1 != 0:\n",
    "            y2 = l2.pt1.coordinate[1]\n",
    "            \n",
    "            xnum = y2 - Fraction(b1num, b1den)\n",
    "            xden = Fraction(dy1, dx1)\n",
    "\n",
    "            ynum = dy1 * xnum + b1num * xden\n",
    "            yden = dx1 * xden\n",
    "        else:\n",
    "            # the x-coordinate of the intersection point\n",
    "            xnum = (b2num * b1den - b1num * b2den)\n",
    "            xden = dy1 * dx2 - dy2 * dx1\n",
    "\n",
    "            # the y-coordinate of the intersection point\n",
    "            ynum = dy1 * xnum + b1num * xden\n",
    "            yden = dx1 * xden\n",
    "\n",
    "    return Point(Fraction(xnum, xden), Fraction(ynum, yden), *[None]*3), Point((xnum / xden),(ynum / yden), *[None]*3)"
   ]
  },
  {
   "cell_type": "code",
   "execution_count": 177,
   "metadata": {},
   "outputs": [
    {
     "name": "stdout",
     "output_type": "stream",
     "text": [
      "(-0.05370524562864283, 0.6184164711225509)\n",
      "(Fraction(9479, 2402), Fraction(7949, 2402))\n",
      "(3.9462947543713573, 3.30932556203164)\n"
     ]
    }
   ],
   "source": [
    "x1 = Point(57, 39, *[None]*3)\n",
    "x2 = Point(2, 2, *[None]*3)\n",
    "l1 = Edge(x1,x2,None)\n",
    "\n",
    "x3 = Point(4, 1, *[None]*3)\n",
    "x4 = Point(3, 44, *[None]*3)\n",
    "l2 = Edge(x3, x4, None)\n",
    "\n",
    "print(intersection_point_error(l1,l2).coordinate)\n",
    "\n",
    "print(intersection_point(l1, l2)[0].coordinate)\n",
    "print(intersection_point(l1, l2)[1].coordinate)"
   ]
  },
  {
   "cell_type": "code",
   "execution_count": 178,
   "metadata": {},
   "outputs": [],
   "source": [
    "def pointequals(p1: Point, p2: Point) -> bool:\n",
    "    return p1.coordinate[0] == p2.coordinate[0] and p1.coordinate[1] == p2.coordinate[1]"
   ]
  },
  {
   "cell_type": "code",
   "execution_count": 179,
   "metadata": {},
   "outputs": [],
   "source": [
    "def other(e: Edge, p: Point) -> Point:\n",
    "    return e.pt1 if pointequals(p, e.pt2) else e.pt2"
   ]
  },
  {
   "attachments": {},
   "cell_type": "markdown",
   "metadata": {},
   "source": [
    "# Sweep algorithm"
   ]
  },
  {
   "attachments": {},
   "cell_type": "markdown",
   "metadata": {},
   "source": [
    "### Event queue initialization"
   ]
  },
  {
   "cell_type": "code",
   "execution_count": 180,
   "metadata": {},
   "outputs": [
    {
     "name": "stdout",
     "output_type": "stream",
     "text": [
      "We have 28 eventqueues initialized, each sorted descending on value of the orientation test\n",
      "To reach the belonging eventqueue: Use eventqueue_per_reflex[i] with i the index of the belonging queue we have. Use .coordinate to retrieve its point value\n"
     ]
    }
   ],
   "source": [
    "#Add all points of polygon outer boundary and holes together to loop over all points to decide with orientation test which are in region of sweep\n",
    "allpoints = []\n",
    "for element in poly.points:\n",
    "    allpoints.append(element)\n",
    "for elements in poly.holes:\n",
    "    for pts in elements.points:\n",
    "        allpoints.append(pts)\n",
    "\n",
    "eventqueue_per_reflex = []\n",
    "for i in range(nr):\n",
    "    in_queue_of_reflex = []\n",
    "    to_list = []\n",
    "    for ap in allpoints:\n",
    "        # res = orientation_coordinates(refl[i].incoming[0].pt2, refl[i].coordinate, ap.coordinate)\n",
    "        # res2 = orientation_coordinates(refl[i].outgoing[0].pt1, refl[i].coordinate, ap.coordinate)\n",
    "        res = orientation_class(refl[i].incoming[0].pt2, refl[i], ap)\n",
    "        res2 = orientation_class(refl[i].outgoing[0].pt1, refl[i], ap)\n",
    "        if (res[0] == -1 and res2[0] == -1):\n",
    "            in_queue_of_reflex.append((ap, res[1])) #only if the point is inside the \"wedge\" of the extended incoming and outgoing edges it is in the eventqueue\n",
    "    #print(in_queue_of_reflex)\n",
    "    in_queue_of_reflex.sort(reverse=True, key=lambda v: v[1]) #We sort on descending order on the real value of the orientation test, not the -1/1 value\n",
    "    #print(in_queue_of_reflex)\n",
    "    for item in in_queue_of_reflex:\n",
    "        to_list.append(item[0])\n",
    "    eventqueue_per_reflex.append(to_list)\n",
    "print(\"We have\", len(eventqueue_per_reflex), \"eventqueues initialized, each sorted descending on value of the orientation test\")\n",
    "#print(eventqueue_per_reflex[1])\n",
    "#for el in eventqueue_per_reflex[1]:\n",
    "#    print(el.coordinate)\n",
    "print(\"To reach the belonging eventqueue: Use eventqueue_per_reflex[i] with i the index of the belonging queue we have. Use .coordinate to retrieve its point value\")"
   ]
  },
  {
   "attachments": {},
   "cell_type": "markdown",
   "metadata": {},
   "source": [
    "### Status initialization"
   ]
  },
  {
   "cell_type": "code",
   "execution_count": 181,
   "metadata": {},
   "outputs": [],
   "source": [
    "def status(v, polygon):\n",
    "    pts = []\n",
    "    edges = []\n",
    "    status = []\n",
    "    #get vertices of the boundary, and check if the reflex vertex is on the boundary\n",
    "    for pt in range(len(polygon['outer_boundary'])):\n",
    "        if (polygon['outer_boundary'][pt] == v):\n",
    "            incoming = polygon['outer_boundary'][pt - 1]\n",
    "        (x,y) = [polygon['outer_boundary'][pt]['x'], polygon['outer_boundary'][pt]['y']]\n",
    "        p = Point(x,y, None, None, None)\n",
    "        pts.append(p)\n",
    "    #do the same for the holes\n",
    "    for hole in polygon['holes']:\n",
    "        for i in range(len(hole)):\n",
    "            if (polygon['holes'][hole][i] == v):\n",
    "                incoming = polygon['holes'][hole][i - 1]\n",
    "            (x,y) = [polygon['holes'][hole][i]['x'], polygon['holes'][hole][i]['y']]\n",
    "            p = Point(x, y, None, None, None)\n",
    "            pts.append(p)\n",
    "    #create the edges out of the vertices\n",
    "    for i in range(len(pts)):\n",
    "        e = Edge(pts[i].coordinate, pts[i-1].coordinate, None)\n",
    "        edges.append(e)\n",
    "    \n",
    "    #make v into a point class\n",
    "    r = Point(v['x'], v['y'], None, None, None)\n",
    "    #make the incoming point into a point class\n",
    "    incoming = Point(incoming['x'], incoming['y'], None, None, None)\n",
    "    #find all the edges that intersect the infinite line through incoming and r\n",
    "    for i in range(len(edges)):\n",
    "        p1 = Point(edges[i].pt1[0], edges[i].pt1[1], None, None, None)\n",
    "        p2 = Point(edges[i].pt2[0], edges[i].pt2[1], None, None, None)\n",
    "        if orientation_class(incoming, r, p1) != orientation_class(incoming, r, p2):\n",
    "            status.append(edges[i])\n",
    "\n",
    "    return status"
   ]
  },
  {
   "attachments": {},
   "cell_type": "markdown",
   "metadata": {},
   "source": [
    "### Event handling"
   ]
  },
  {
   "cell_type": "code",
   "execution_count": 182,
   "metadata": {},
   "outputs": [],
   "source": [
    "# There is only one type of event.\n",
    "# We need to remove edges that \"end\" (not in terms of the direction of the edge)\n",
    "# in this Point from the status, and add the edges that \"start\" here.\n",
    "# We want to report the Points of the polygon that are endpoints of an edge that is visible to r\n",
    "def handle_event(p: Point, r: Point, status):\n",
    "    d = dist(p,r) #is it needed?\n",
    "\n",
    "    # print(status)\n",
    "    reportThis = False\n",
    "    \n",
    "    toBeAdded = []\n",
    "\n",
    "    edges, dists = zip(*status) # list of pairs (edge, dist) to two lists of edges and dists\n",
    "    edges = list(edges)\n",
    "\n",
    "    if (pointequals(edges[0].pt1, p) or pointequals(edges[0].pt2, p)):\n",
    "        reportThis = True\n",
    "\n",
    "    for edge in (p.incoming + p.outgoing): # all edges ending or starting here\n",
    "        try:\n",
    "            idx = edges.index(edge) #finds the index of 'edge' in 'edges' if it exists, may throw error\n",
    "\n",
    "            del edges[idx]\n",
    "            del status[idx]\n",
    "        except: #edge is not in edges of the status, so we must add it to the status\n",
    "            if orientation_class(r, p, other(edge, p))[0] == 0: #edge should not be added to status if colinear\n",
    "                continue\n",
    "            toBeAdded.append([edge, d]) #can we just append with 0, since we calc after anyway?\n",
    "            # print(p.coordinate)\n",
    "    \n",
    "    # recompute distances of intersection point with sweepline and edges in the status\n",
    "    for i in range(len(status)):\n",
    "        isectpt = intersection_point( Edge(r, p, None), status[i][0] )[0] #intersect rp with status[i][0]\n",
    "        # print(isectpt.coordinate)\n",
    "        status[i][1] = dist(r, isectpt) #replace distance with correct value for current event\n",
    "\n",
    "    \n",
    "    toBeAdded.sort(key=lambda ed : angle(r, p, other(ed[0], p)))\n",
    "\n",
    "    status.extend(toBeAdded)\n",
    "    \n",
    "    # sort the status on the distance of the intersection point of the sweepline to the edge\n",
    "    status.sort(key=lambda e : e[1])\n",
    "    \n",
    "    # if len(status) == 0:\n",
    "    #     print(p.coordinate)\n",
    "    #     return status, reportThis\n",
    "\n",
    "    reportThis |= (pointequals(status[0][0].pt1, p) or pointequals(status[0][0].pt2, p))\n",
    "\n",
    "    # print(status)\n",
    "\n",
    "    # print(\"----------------------------\")\n",
    "    \n",
    "    # if p is an endpoint of the edge currently visible to r, we need to report it.\n",
    "    return status, reportThis"
   ]
  },
  {
   "attachments": {},
   "cell_type": "markdown",
   "metadata": {},
   "source": [
    "### Feasible region"
   ]
  },
  {
   "cell_type": "code",
   "execution_count": 183,
   "metadata": {},
   "outputs": [],
   "source": [
    "def feasible_region(r: Point, polygon: Polygon):\n",
    "    \n",
    "    '''EVENT QUEUE INITIALIZATION'''\n",
    "    #Add all points of polygon outer boundary and holes together to loop over all points to decide with orientation test which are in region of sweep\n",
    "    allpoints = []\n",
    "    for element in poly.points:\n",
    "        allpoints.append(element)\n",
    "    for elements in poly.holes:\n",
    "        for pts in elements.points:\n",
    "            allpoints.append(pts)\n",
    "\n",
    "    in_queue_of_reflex = []\n",
    "    # to_list = []\n",
    "    for ap in allpoints:\n",
    "        # res = orientation_coordinates(refl[i].incoming[0].pt2, refl[i].coordinate, ap.coordinate)\n",
    "        # res2 = orientation_coordinates(refl[i].outgoing[0].pt1, refl[i].coordinate, ap.coordinate)\n",
    "        if pointequals(ap, r): # or pointequals(ap, r.incoming[0].pt1) or pointequals(ap, r.outgoing[0].pt2):\n",
    "            continue\n",
    "\n",
    "        res = orientation_class(r.incoming[0].pt1, r, ap)\n",
    "        res2 = orientation_class(r, r.outgoing[0].pt2, ap)\n",
    "\n",
    "        if (res[0] >= 0 and res2[0] >= 0):\n",
    "            in_queue_of_reflex.append(ap) #only if the point is inside the \"wedge\" of the extended incoming and outgoing edges it is in the eventqueue\n",
    "    # print(in_queue_of_reflex)\n",
    "    in_queue_of_reflex.sort(reverse = True, key=lambda v: angle(r.incoming[0].pt1, r, v)) #We sort on descending order on the real value of the orientation test, not the -1/1 value\n",
    "    # print(in_queue_of_reflex)\n",
    "    # for item in in_queue_of_reflex:\n",
    "        # to_list.append(item[0])\n",
    "    # eventqueue_per_reflex.append(to_list)\n",
    "\n",
    "    SORTED_EVENT_QUEUE = in_queue_of_reflex\n",
    "\n",
    "    print(\"EVENT QUEUE SIZE: \", len(SORTED_EVENT_QUEUE))\n",
    "\n",
    "    # return SORTED_EVENT_QUEUE, []\n",
    "\n",
    "    '''STATUS INITIALIZATION'''\n",
    "    incoming = r.incoming[0]\n",
    "\n",
    "    # edges = []\n",
    "\n",
    "    # for pt in SORTED_EVENT_QUEUE:\n",
    "    #     edges.extend(pt.incoming)\n",
    "    #     edges.extend(pt.outgoing)\n",
    "\n",
    "    \n",
    "    # edges = []\n",
    "\n",
    "    # for edge in poly.edges:\n",
    "    #     if  edge.pt1 != incoming.pt1 and \\\n",
    "    #         edge.pt1 != r and \\\n",
    "    #         edge.pt2 != incoming.pt1 and \\\n",
    "    #         edge.pt2 != r:\n",
    "    #         edges.append(edge)\n",
    "\n",
    "    # for hole in poly.holes:\n",
    "    #     for edge in hole.edges:\n",
    "    #         if  edge.pt1 != incoming.pt1 and \\\n",
    "    #             edge.pt1 != r and \\\n",
    "    #             edge.pt2 != incoming.pt1 and \\\n",
    "    #             edge.pt2 != r:\n",
    "    #             edges.append(edge)\n",
    "    \n",
    "    #TODO: handle added half-edges\n",
    "    edges = []\n",
    "\n",
    "    for pt in poly.points:\n",
    "        for edge in pt.outgoing:\n",
    "            if edge in (r.incoming + r.outgoing):\n",
    "                continue\n",
    "            edges.append(edge)\n",
    "\n",
    "    for hole in poly.holes:\n",
    "        for pt in hole.points:\n",
    "            for edge in pt.outgoing:\n",
    "                if edge in (r.incoming + r.outgoing):\n",
    "                    continue\n",
    "                edges.append(edge)\n",
    "\n",
    "    STATUS = []\n",
    "    \n",
    "    for edge in edges:\n",
    "        if orientation_class(incoming.pt1, r, edge.pt1)[0] * orientation_class(incoming.pt1, r, edge.pt2)[0] < 1:\n",
    "            ip = intersection_point(incoming, edge)[0]\n",
    "\n",
    "            if ip is None: continue\n",
    "\n",
    "            #now check whether the intersection point is actually in the wedge.\n",
    "\n",
    "            #v = r - incoming.pt1\n",
    "            v = ((r.coordinate[0] - incoming.pt1.coordinate[0]), (r.coordinate[1] - incoming.pt1.coordinate[1]))\n",
    "\n",
    "            #vR = (v.y, -v.x)\n",
    "            vR = (v[1], -v[0])\n",
    "\n",
    "            #s = r + vR\n",
    "            s = Point((r.coordinate[0] + vR[0]), (r.coordinate[1] + vR[1]), *[None]*3)\n",
    "\n",
    "            #if orientation ( r, s, ip ) == 1\n",
    "\n",
    "            if orientation_class(r, s, ip)[0] < 1:\n",
    "                continue\n",
    "\n",
    "            d = dist(r, ip)\n",
    "            STATUS.append([edge, d])\n",
    "    \n",
    "    STATUS.sort(key=lambda e : e[1])\n",
    "\n",
    "    print(\"INITIAL STATUS LENGTH: \", len(STATUS))\n",
    "\n",
    "    '''EXECUTING THE SWEEP'''\n",
    "    report = []\n",
    "\n",
    "    STATUS_OVER_TIME = []\n",
    "\n",
    "    for pt in SORTED_EVENT_QUEUE:\n",
    "        STATUS_OVER_TIME.append(STATUS.copy())\n",
    "        STATUS, report_pt = handle_event(pt, r, STATUS)\n",
    "        if report_pt: report.append(pt)\n",
    "    \n",
    "    STATUS_OVER_TIME.append(STATUS.copy())\n",
    "\n",
    "    return report, STATUS_OVER_TIME"
   ]
  },
  {
   "cell_type": "code",
   "execution_count": 185,
   "metadata": {},
   "outputs": [
    {
     "name": "stdout",
     "output_type": "stream",
     "text": [
      "EVENT QUEUE SIZE:  27\n",
      "INITIAL STATUS LENGTH:  6\n"
     ]
    },
    {
     "ename": "AttributeError",
     "evalue": "'NoneType' object has no attribute 'coordinate'",
     "output_type": "error",
     "traceback": [
      "\u001b[1;31m---------------------------------------------------------------------------\u001b[0m",
      "\u001b[1;31mAttributeError\u001b[0m                            Traceback (most recent call last)",
      "Cell \u001b[1;32mIn [185], line 2\u001b[0m\n\u001b[0;32m      1\u001b[0m reflex \u001b[39m=\u001b[39m refl[\u001b[39m1\u001b[39m]\n\u001b[1;32m----> 2\u001b[0m FR, stat_at \u001b[39m=\u001b[39m feasible_region(reflex, poly)\n\u001b[0;32m      3\u001b[0m \u001b[39mprint\u001b[39m(\u001b[39mlen\u001b[39m(FR))\n",
      "Cell \u001b[1;32mIn [183], line 119\u001b[0m, in \u001b[0;36mfeasible_region\u001b[1;34m(r, polygon)\u001b[0m\n\u001b[0;32m    117\u001b[0m \u001b[39mfor\u001b[39;00m pt \u001b[39min\u001b[39;00m SORTED_EVENT_QUEUE:\n\u001b[0;32m    118\u001b[0m     STATUS_OVER_TIME\u001b[39m.\u001b[39mappend(STATUS\u001b[39m.\u001b[39mcopy())\n\u001b[1;32m--> 119\u001b[0m     STATUS, report_pt \u001b[39m=\u001b[39m handle_event(pt, r, STATUS)\n\u001b[0;32m    120\u001b[0m     \u001b[39mif\u001b[39;00m report_pt: report\u001b[39m.\u001b[39mappend(pt)\n\u001b[0;32m    122\u001b[0m STATUS_OVER_TIME\u001b[39m.\u001b[39mappend(STATUS\u001b[39m.\u001b[39mcopy())\n",
      "Cell \u001b[1;32mIn [182], line 33\u001b[0m, in \u001b[0;36mhandle_event\u001b[1;34m(p, r, status)\u001b[0m\n\u001b[0;32m     31\u001b[0m     isectpt \u001b[39m=\u001b[39m intersection_point( Edge(r, p, \u001b[39mNone\u001b[39;00m), status[i][\u001b[39m0\u001b[39m] )[\u001b[39m0\u001b[39m] \u001b[39m#intersect rp with status[i][0]\u001b[39;00m\n\u001b[0;32m     32\u001b[0m     \u001b[39m# print(isectpt.coordinate)\u001b[39;00m\n\u001b[1;32m---> 33\u001b[0m     status[i][\u001b[39m1\u001b[39m] \u001b[39m=\u001b[39m dist(r, isectpt) \u001b[39m#replace distance with correct value for current event\u001b[39;00m\n\u001b[0;32m     36\u001b[0m toBeAdded\u001b[39m.\u001b[39msort(key\u001b[39m=\u001b[39m\u001b[39mlambda\u001b[39;00m ed : angle(r, p, other(ed[\u001b[39m0\u001b[39m], p)))\n\u001b[0;32m     38\u001b[0m status\u001b[39m.\u001b[39mextend(toBeAdded)\n",
      "Cell \u001b[1;32mIn [174], line 2\u001b[0m, in \u001b[0;36mdist\u001b[1;34m(p, q)\u001b[0m\n\u001b[0;32m      1\u001b[0m \u001b[39mdef\u001b[39;00m \u001b[39mdist\u001b[39m(p: Point, q: Point):\n\u001b[1;32m----> 2\u001b[0m     \u001b[39mreturn\u001b[39;00m Fraction((Fraction(p\u001b[39m.\u001b[39mcoordinate[\u001b[39m0\u001b[39m] \u001b[39m-\u001b[39m q\u001b[39m.\u001b[39;49mcoordinate[\u001b[39m0\u001b[39m])\u001b[39m*\u001b[39m\u001b[39m*\u001b[39mFraction(\u001b[39m2\u001b[39m,\u001b[39m1\u001b[39m) \u001b[39m+\u001b[39m Fraction(p\u001b[39m.\u001b[39mcoordinate[\u001b[39m1\u001b[39m] \u001b[39m-\u001b[39m q\u001b[39m.\u001b[39mcoordinate[\u001b[39m1\u001b[39m])\u001b[39m*\u001b[39m\u001b[39m*\u001b[39mFraction(\u001b[39m2\u001b[39m,\u001b[39m1\u001b[39m)))\n",
      "\u001b[1;31mAttributeError\u001b[0m: 'NoneType' object has no attribute 'coordinate'"
     ]
    }
   ],
   "source": [
    "reflex = refl[1]\n",
    "FR, stat_at = feasible_region(reflex, poly)\n",
    "print(len(FR))"
   ]
  },
  {
   "cell_type": "code",
   "execution_count": null,
   "metadata": {},
   "outputs": [
    {
     "name": "stdout",
     "output_type": "stream",
     "text": [
      "(518170442, 145990133)\n",
      "---\n",
      "(972122497, 406678785)\n",
      "(841172557, 554365113)\n",
      "(602711995, 719961446)\n",
      "(498647195, 529671996)\n",
      "(385673579, 956170210)\n",
      "(345167289, 859001776)\n",
      "(359939980, 768422084)\n",
      "(378607327, 267682836)\n",
      "(349623949, 227499932)\n",
      "---\n"
     ]
    },
    {
     "data": {
      "image/png": "[encoded data removed]",
      "text/plain": [
       "<Figure size 640x480 with 1 Axes>"
      ]
     },
     "metadata": {},
     "output_type": "display_data"
    }
   ],
   "source": [
    "polygon_plt()\n",
    "\n",
    "print(reflex.coordinate)\n",
    "print(\"---\")\n",
    "for pt in FR:\n",
    "    print(pt.coordinate)\n",
    "print(\"---\")\n",
    "\n",
    "to_plot = [reflex, *FR]\n",
    "# to_plot = [reflex, FR[0][0].pt1, FR[0][0].pt2]\n",
    "\n",
    "for pt in to_plot:\n",
    "    plt.scatter(pt.coordinate[0], pt.coordinate[1])\n",
    "\n",
    "plt.show()"
   ]
  },
  {
   "cell_type": "code",
   "execution_count": null,
   "metadata": {},
   "outputs": [
    {
     "data": {
      "image/png": "[encoded data removed]",
      "text/plain": [
       "<Figure size 640x480 with 1 Axes>"
      ]
     },
     "metadata": {},
     "output_type": "display_data"
    }
   ],
   "source": [
    "polygon_plt()\n",
    "\n",
    "plt.scatter(reflex.coordinate[0], reflex.coordinate[1])\n",
    "\n",
    "for e,d in stat_at[0]:\n",
    "    # print(intersection_point(Edge(refl[1], e.pt2, None), e)[0].coordinate)\n",
    "    # print(d.as_integer_ratio)\n",
    "    xs = [e.pt1.coordinate[0], e.pt2.coordinate[0]]\n",
    "    ys = [e.pt1.coordinate[1], e.pt2.coordinate[1]]\n",
    "    plt.scatter(xs,ys)\n",
    "\n",
    "plt.show()"
   ]
  },
  {
   "attachments": {},
   "cell_type": "markdown",
   "metadata": {},
   "source": [
    "# Printing JSON"
   ]
  },
  {
   "cell_type": "code",
   "execution_count": null,
   "metadata": {},
   "outputs": [
    {
     "name": "stdout",
     "output_type": "stream",
     "text": [
      "./instances-2IMA15/instances-2IMA15/fpg-poly_0000000020_h2.instance.json\n",
      "fpg-poly_0000000020_h2\n",
      "Created a json output file called: sol_fpg-poly_0000000020_h2.json\n",
      " for instance fpg-poly_0000000020_h2 \n",
      " with the following contents:\n",
      " {'type': 'CGSHOP2023_Solution', 'instance': 'fpg-poly_0000000020_h2', 'polygons': [[{'x': 349623949, 'y': 227499932}, {'x': 359939980, 'y': 768422084}, {'x': 378607327, 'y': 267682836}], [{'x': 68249156, 'y': 418481519}, {'x': 178867385, 'y': 723985109}, {'x': 345167289, 'y': 859001776}, {'x': 278159008, 'y': 298820764}, {'x': 274224193, 'y': 136143764}, {'x': 252289409, 'y': 121547145}]]}\n",
      "\n",
      "Please use the polygons_to_write field to fill in all polygons that should be in the json file, this is now placeholded with the original holes\n"
     ]
    }
   ],
   "source": [
    "polygons_to_write = []\n",
    "#for pp in poly.holes:\n",
    "#    print(pp.points)\n",
    "polygons_to_write = poly.holes #I hope you can make a list with all polygons and add those in the parameter \"polygons_to_write\"\n",
    "#print(polygons_to_write)\n",
    "\n",
    "#Name variables for dictionary\n",
    "filename = path_to_testfile\n",
    "print(filename)\n",
    "leftbound = ''.join(filename).rindex('/')\n",
    "rightbound = ''.join(filename).rindex('i')\n",
    "#print(filename[leftbound+1:])\n",
    "#print(filename[:rightbound])\n",
    "print(filename[leftbound+1:rightbound-1])\n",
    "instance = filename[leftbound+1:rightbound-1]\n",
    "typename = \"CGSHOP2023_Solution\"\n",
    "\n",
    "from decimal import Decimal\n",
    "\n",
    "def to_float(d):\n",
    "    d = Decimal(str(d)) #cast as string for proper fraction\n",
    "    nom, den = d.as_integer_ratio()\n",
    "    if den==1:\n",
    "        print(d)\n",
    "        return d\n",
    "    else:\n",
    "        print(nom, den)\n",
    "        dict = {\"num\": nom, \"den\": den}\n",
    "        return dict\n",
    "\n",
    "lists = polygons_to_write\n",
    "listsfin= []\n",
    "listsdict = []\n",
    "\n",
    "for item in lists:\n",
    "    #print(item)\n",
    "    for el in item.points:\n",
    "        #print(el, el.coordinate, el.coordinate[0], el.coordinate[1])\n",
    "        xc = el.coordinate[0]\n",
    "        yc = el.coordinate[1]\n",
    "        if(isinstance(xc, float)):\n",
    "            xc = to_float(xc)\n",
    "        if(isinstance(yc, float)):\n",
    "            yc = to_float(yc)\n",
    "        dictxy = {\"x\": xc, \"y\": yc}\n",
    "        #print(dictxy)\n",
    "        listsdict.append(dictxy)\n",
    "    #print(\"NEW\")\n",
    "    listsfin.append(listsdict)\n",
    "    #print(listsfin)\n",
    "    listsdict = []\n",
    "\n",
    "finaldict = {\n",
    "    \"type\": typename,\n",
    "    \"instance\": instance,\n",
    "    \"polygons\": listsfin\n",
    "}\n",
    "#print(finaldict)\n",
    "json_object = json.dumps(finaldict, indent=4)\n",
    "with open(\"sol_\"+instance+\".json\", \"w\") as outfile:\n",
    "    outfile.write(json_object)\n",
    "\n",
    "print(\"Created a json output file called:\", \"sol_\"+instance+\".json\\n\" , \"for instance\", instance,\"\\n\", \"with the following contents:\\n\", finaldict)\n",
    "print(\"\\nPlease use the polygons_to_write field to fill in all polygons that should be in the json file, this is now placeholded with the original holes\")\n",
    "        "
   ]
  }
 ],
 "metadata": {
  "kernelspec": {
   "display_name": "Python 3",
   "language": "python",
   "name": "python3"
  },
  "language_info": {
   "codemirror_mode": {
    "name": "ipython",
    "version": 3
   },
   "file_extension": ".py",
   "mimetype": "text/x-python",
   "name": "python",
   "nbconvert_exporter": "python",
   "pygments_lexer": "ipython3",
   "version": "3.9.1"
  },
  "orig_nbformat": 4,
  "vscode": {
   "interpreter": {
    "hash": "81794d4967e6c3204c66dcd87b604927b115b27c00565d3d43f05ba2f3a2cb0d"
   }
  }
 },
 "nbformat": 4,
 "nbformat_minor": 2
}
